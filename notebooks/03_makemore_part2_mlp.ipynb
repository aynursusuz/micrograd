{
  "cells": [
    {
      "cell_type": "code",
      "execution_count": 2,
      "metadata": {
        "id": "aJK4U-to6NLW"
      },
      "outputs": [],
      "source": [
        "import torch\n",
        "import torch.nn.functional as F\n",
        "import matplotlib.pyplot as plt # for making figures\n",
        "%matplotlib inline"
      ]
    },
    {
      "cell_type": "code",
      "execution_count": 3,
      "metadata": {
        "colab": {
          "base_uri": "https://localhost:8080/"
        },
        "id": "NdJJ4m7L6obV",
        "outputId": "2a20124f-72bd-410d-8c7c-f02a3391aabe"
      },
      "outputs": [
        {
          "data": {
            "text/plain": [
              "['emma', 'olivia', 'ava', 'isabella', 'sophia', 'charlotte', 'mia', 'amelia']"
            ]
          },
          "execution_count": 3,
          "metadata": {},
          "output_type": "execute_result"
        }
      ],
      "source": [
        "# read in all the words\n",
        "words = open('data/names.txt', 'r').read().splitlines() \n",
        "words[:8]"
      ]
    },
    {
      "cell_type": "code",
      "execution_count": 4,
      "metadata": {
        "colab": {
          "base_uri": "https://localhost:8080/"
        },
        "id": "VYNFqBiX7Cq3",
        "outputId": "dbff83e3-62a9-4820-ce09-3037f4b43c97"
      },
      "outputs": [
        {
          "data": {
            "text/plain": [
              "32033"
            ]
          },
          "execution_count": 4,
          "metadata": {},
          "output_type": "execute_result"
        }
      ],
      "source": [
        "len(words)"
      ]
    },
    {
      "cell_type": "code",
      "execution_count": 5,
      "metadata": {
        "colab": {
          "base_uri": "https://localhost:8080/"
        },
        "id": "HfZdDMXR7M17",
        "outputId": "91cfb7ae-995b-47ca-cf62-b20b338d7f1c"
      },
      "outputs": [
        {
          "name": "stdout",
          "output_type": "stream",
          "text": [
            "{1: 'a', 2: 'b', 3: 'c', 4: 'd', 5: 'e', 6: 'f', 7: 'g', 8: 'h', 9: 'i', 10: 'j', 11: 'k', 12: 'l', 13: 'm', 14: 'n', 15: 'o', 16: 'p', 17: 'q', 18: 'r', 19: 's', 20: 't', 21: 'u', 22: 'v', 23: 'w', 24: 'x', 25: 'y', 26: 'z', 0: '.'}\n"
          ]
        }
      ],
      "source": [
        "#build the vocabulary of charactesr and mapping to/from integers\n",
        "chars = sorted(list(set(''.join(words))))\n",
        "stoi = {s:i+1 for i, s in enumerate(chars)}\n",
        "stoi['.'] = 0\n",
        "itos = {i:s for s, i in stoi.items()}\n",
        "print(itos)"
      ]
    },
    {
      "cell_type": "code",
      "execution_count": 28,
      "metadata": {
        "id": "jfQ15ZLU8Mir"
      },
      "outputs": [],
      "source": [
        "# build the dataset\n",
        "\n",
        "block_size = 3 # context length: how many characters do we take to predict the next one?\n",
        "X, Y = [], []\n",
        "for w in words:\n",
        "\n",
        "  #print(w)\n",
        "  context = [0] * block_size\n",
        "  for ch in w + '.':\n",
        "    ix = stoi[ch]\n",
        "    X.append(context)\n",
        "    Y.append(ix)\n",
        "    #print(''.join(itos[i] for i in context), '--->', itos[ix])\n",
        "    context = context[1:] + [ix] # crop and append\n",
        "\n",
        "X = torch.tensor(X)\n",
        "Y = torch.tensor(Y)\n"
      ]
    },
    {
      "cell_type": "code",
      "execution_count": 29,
      "metadata": {
        "colab": {
          "base_uri": "https://localhost:8080/"
        },
        "id": "p5wz7KUuhBn5",
        "outputId": "fcb791d5-6914-4cb8-bfde-87b2656b4bf9"
      },
      "outputs": [
        {
          "data": {
            "text/plain": [
              "(torch.Size([228146, 3]), torch.int64, torch.Size([228146]), torch.int64)"
            ]
          },
          "execution_count": 29,
          "metadata": {},
          "output_type": "execute_result"
        }
      ],
      "source": [
        "X.shape, X.dtype, Y.shape, Y.dtype"
      ]
    },
    {
      "cell_type": "code",
      "execution_count": 32,
      "metadata": {
        "colab": {
          "base_uri": "https://localhost:8080/"
        },
        "id": "tZotLow4YN4N",
        "outputId": "c23984e3-ca01-47fb-b7d0-d1f5e67004b5"
      },
      "outputs": [
        {
          "name": "stdout",
          "output_type": "stream",
          "text": [
            "torch.Size([182625, 3]) torch.Size([182625])\n",
            "torch.Size([22655, 3]) torch.Size([22655])\n",
            "torch.Size([22866, 3]) torch.Size([22866])\n"
          ]
        }
      ],
      "source": [
        "block_size = 3 # context length: how many characters do we take to predict the next one?\n",
        "\n",
        "def build_dataset(words) :\n",
        "  X, Y = [], []\n",
        "  for w in words:\n",
        "\n",
        "    #print(w)\n",
        "    context = [0] * block_size\n",
        "    for ch in w + '.':\n",
        "      ix = stoi[ch]\n",
        "      X.append(context)\n",
        "      Y.append(ix)\n",
        "      #print(''.join(itos[i] for i in context), '--->', itos[ix])\n",
        "      context = context[1:] + [ix] # crop and append\n",
        "\n",
        "  X = torch.tensor(X)\n",
        "  Y = torch.tensor(Y)\n",
        "  print(X.shape, Y.shape)\n",
        "  return X, Y\n",
        "\n",
        "import random\n",
        "random.seed(42)\n",
        "random.shuffle(words)\n",
        "n1 = int(0.8*len(words))\n",
        "n2 = int(0.9*len(words))\n",
        "\n",
        "Xtr, Ytr = build_dataset(words[:n1])\n",
        "Xdev, Ydev = build_dataset(words[n1:n2])\n",
        "Xte, Yte = build_dataset(words[n2:])\n"
      ]
    },
    {
      "cell_type": "code",
      "execution_count": 30,
      "metadata": {
        "id": "kM9rXBHo9o_Q"
      },
      "outputs": [],
      "source": [
        "C = torch.randn((27,2))"
      ]
    },
    {
      "cell_type": "code",
      "execution_count": 31,
      "metadata": {
        "colab": {
          "base_uri": "https://localhost:8080/"
        },
        "id": "TB1iOQhDfITW",
        "outputId": "745dd589-3705-412f-b7c6-55de4dcaf9c7"
      },
      "outputs": [
        {
          "data": {
            "text/plain": [
              "torch.Size([228146, 3, 2])"
            ]
          },
          "execution_count": 31,
          "metadata": {},
          "output_type": "execute_result"
        }
      ],
      "source": [
        "emb = C[X]\n",
        "emb.shape"
      ]
    },
    {
      "cell_type": "code",
      "execution_count": 10,
      "metadata": {
        "id": "mkoixbCwgb6O"
      },
      "outputs": [],
      "source": [
        "W1 = torch.randn((6,100))\n",
        "b1 = torch.randn(100)"
      ]
    },
    {
      "cell_type": "code",
      "execution_count": 11,
      "metadata": {
        "id": "HG2FASkYgsGu"
      },
      "outputs": [],
      "source": [
        "h = torch.tanh(emb.view(-1, 6) @ W1 + b1)"
      ]
    },
    {
      "cell_type": "code",
      "execution_count": 12,
      "metadata": {
        "colab": {
          "base_uri": "https://localhost:8080/"
        },
        "id": "DoasysFypeUr",
        "outputId": "f853f5f9-2b82-41da-f8a3-93be896d2bac"
      },
      "outputs": [
        {
          "data": {
            "text/plain": [
              "tensor([[-0.8921,  0.6550,  0.9988,  ...,  1.0000, -0.8613,  0.9927],\n",
              "        [-0.4269, -0.3895,  0.9904,  ...,  0.9997, -0.3619,  0.8224],\n",
              "        [-0.2864,  0.9894,  0.9749,  ...,  0.9995, -0.2306,  0.8977],\n",
              "        ...,\n",
              "        [-0.9899, -0.7252,  0.9997,  ..., -0.3505, -0.4198,  0.9870],\n",
              "        [-0.8807,  0.2844, -0.8192,  ...,  0.9980,  0.9251, -0.8622],\n",
              "        [ 0.9082, -0.7727,  1.0000,  ..., -0.0524, -0.9522,  0.9998]])"
            ]
          },
          "execution_count": 12,
          "metadata": {},
          "output_type": "execute_result"
        }
      ],
      "source": [
        "h"
      ]
    },
    {
      "cell_type": "code",
      "execution_count": 13,
      "metadata": {
        "id": "J9dcbSSgpitW"
      },
      "outputs": [],
      "source": [
        "W2 = torch.randn((100,27))\n",
        "b2 = torch.randn(27)"
      ]
    },
    {
      "cell_type": "code",
      "execution_count": 14,
      "metadata": {
        "id": "4DEz5KQJg8-t"
      },
      "outputs": [],
      "source": [
        "logits = h @ W2+ b2"
      ]
    },
    {
      "cell_type": "code",
      "execution_count": 15,
      "metadata": {
        "colab": {
          "base_uri": "https://localhost:8080/"
        },
        "id": "dFMpLdoWh3ge",
        "outputId": "dafd51bf-2622-410a-db60-af3376e074d1"
      },
      "outputs": [
        {
          "data": {
            "text/plain": [
              "torch.Size([32, 27])"
            ]
          },
          "execution_count": 15,
          "metadata": {},
          "output_type": "execute_result"
        }
      ],
      "source": [
        "logits.shape"
      ]
    },
    {
      "cell_type": "code",
      "execution_count": 16,
      "metadata": {
        "id": "ctDmvUh5h6rF"
      },
      "outputs": [],
      "source": [
        "counts = logits.exp()"
      ]
    },
    {
      "cell_type": "code",
      "execution_count": 17,
      "metadata": {
        "id": "UWiOK0DJp5L6"
      },
      "outputs": [],
      "source": [
        "prob = counts / counts.sum(1, keepdims = True)"
      ]
    },
    {
      "cell_type": "code",
      "execution_count": 33,
      "metadata": {
        "colab": {
          "base_uri": "https://localhost:8080/"
        },
        "id": "WjmJLpKBqAAL",
        "outputId": "1683472a-181c-48bf-afc2-e6b845fbe04b"
      },
      "outputs": [
        {
          "data": {
            "text/plain": [
              "torch.Size([32, 27])"
            ]
          },
          "execution_count": 33,
          "metadata": {},
          "output_type": "execute_result"
        }
      ],
      "source": [
        "prob.shape\n"
      ]
    },
    {
      "cell_type": "code",
      "execution_count": 20,
      "metadata": {
        "colab": {
          "base_uri": "https://localhost:8080/"
        },
        "id": "Rur2TZojqhpK",
        "outputId": "0644a515-5967-43ba-d6b9-ce876226fcc9"
      },
      "outputs": [
        {
          "data": {
            "text/plain": [
              "tensor(16.7927)"
            ]
          },
          "execution_count": 20,
          "metadata": {},
          "output_type": "execute_result"
        }
      ],
      "source": [
        "loss = -prob[torch.arange(32), Y].log().mean()\n",
        "loss"
      ]
    },
    {
      "cell_type": "code",
      "execution_count": 21,
      "metadata": {
        "id": "BZ3sj71jrahD"
      },
      "outputs": [],
      "source": [
        "# ------------------------------- now made respectable :) --------------------------"
      ]
    },
    {
      "cell_type": "code",
      "execution_count": 34,
      "metadata": {
        "colab": {
          "base_uri": "https://localhost:8080/"
        },
        "id": "u7zXMVprZxP9",
        "outputId": "5050edb5-497d-4504-e0d7-c06ca29ebd45"
      },
      "outputs": [
        {
          "data": {
            "text/plain": [
              "(torch.Size([182625, 3]), torch.Size([182625]))"
            ]
          },
          "execution_count": 34,
          "metadata": {},
          "output_type": "execute_result"
        }
      ],
      "source": [
        "Xtr.shape, Ytr.shape  # dataset"
      ]
    },
    {
      "cell_type": "code",
      "execution_count": 35,
      "metadata": {
        "id": "7OJJJOSbrjTi"
      },
      "outputs": [],
      "source": [
        "g = torch.Generator().manual_seed(2147483647)  # for reproducibility\n",
        "C = torch.randn((27,10), generator = g)\n",
        "W1 = torch.randn((30,200), generator = g)\n",
        "b1 = torch.randn(200, generator = g)\n",
        "W2 = torch.randn((200,27), generator = g)\n",
        "b2 = torch.randn(27, generator = g)\n",
        "parameters = [C, W1, b1, W2, b2]"
      ]
    },
    {
      "cell_type": "code",
      "execution_count": 36,
      "metadata": {
        "colab": {
          "base_uri": "https://localhost:8080/"
        },
        "id": "XS8OHxZksYIr",
        "outputId": "c4081c05-e6ac-469d-fb99-ca8f418833ff"
      },
      "outputs": [
        {
          "data": {
            "text/plain": [
              "11897"
            ]
          },
          "execution_count": 36,
          "metadata": {},
          "output_type": "execute_result"
        }
      ],
      "source": [
        "sum(p.nelement() for p in parameters)  # number of parameters in total"
      ]
    },
    {
      "cell_type": "code",
      "execution_count": 37,
      "metadata": {
        "id": "A8siIdZ3aJB5"
      },
      "outputs": [],
      "source": [
        "for p in parameters :\n",
        "  p.requires_grad = True"
      ]
    },
    {
      "cell_type": "code",
      "execution_count": 38,
      "metadata": {
        "id": "1IcZLR2qaR61"
      },
      "outputs": [],
      "source": [
        "lre = torch.linspace(-3, 0, 1000)\n",
        "lrs = 10**lre"
      ]
    },
    {
      "cell_type": "code",
      "execution_count": 39,
      "metadata": {
        "id": "7mGnsvIcaRtX"
      },
      "outputs": [],
      "source": [
        "lri = []\n",
        "lossi = []\n",
        "stepi = []"
      ]
    },
    {
      "cell_type": "code",
      "execution_count": 42,
      "metadata": {
        "id": "8G2mePivskKL"
      },
      "outputs": [],
      "source": [
        "for i in range (200000):\n",
        "  #minibatch construct\n",
        "  ix = torch.randint(0, Xtr.shape[0], (32,))\n",
        "\n",
        "  #forward pass\n",
        "  emb = C[Xtr[ix]]  #(32,3,10)\n",
        "  h = torch.tanh(emb.view(-1,30) @ W1 + b1) # (32,200)\n",
        "  logits = h @ W2 + b2 #(32,27)\n",
        "  loss = F.cross_entropy(logits, Ytr[ix])\n",
        "  #print(loss.item())\n",
        "\n",
        "  #backward pass\n",
        "  for p in parameters :\n",
        "    p.grad = None\n",
        "  loss.backward()\n",
        "\n",
        "    #update\n",
        "    #lr = lrs[i]\n",
        "  lr = 0.1 if i < 100000 else 0.01\n",
        "  for p in parameters :\n",
        "     p.data += -lr * p.grad\n",
        "\n",
        "     #track stats\n",
        "     #lri.append(lre[i])\n",
        "     stepi.append(i)\n",
        "     lossi.append(loss.log10().item())\n",
        "\n",
        "#print(loss.item())\n"
      ]
    },
    {
      "cell_type": "code",
      "execution_count": 43,
      "metadata": {
        "colab": {
          "base_uri": "https://localhost:8080/",
          "height": 430
        },
        "id": "rrALLdGxtJLi",
        "outputId": "70a0ba30-e58c-4d00-a315-227a5104e572"
      },
      "outputs": [
        {
          "data": {
            "image/png": "[encoded data removed]",
            "text/plain": [
              "<Figure size 640x480 with 1 Axes>"
            ]
          },
          "metadata": {},
          "output_type": "display_data"
        }
      ],
      "source": [
        "plt.plot(stepi, lossi) ;"
      ]
    },
    {
      "cell_type": "code",
      "execution_count": 44,
      "metadata": {
        "colab": {
          "base_uri": "https://localhost:8080/"
        },
        "id": "lv9SG73qcfU9",
        "outputId": "f4e6f7fe-2e56-4645-b136-7837cd46e00e"
      },
      "outputs": [
        {
          "data": {
            "text/plain": [
              "tensor(2.1233, grad_fn=<NllLossBackward0>)"
            ]
          },
          "execution_count": 44,
          "metadata": {},
          "output_type": "execute_result"
        }
      ],
      "source": [
        "  emb = C[Xtr]  #(32,3,2)\n",
        "  h = torch.tanh(emb.view(-1,30) @ W1 + b1) # (32,100)\n",
        "  logits = h @ W2 + b2 #(32,27)\n",
        "  loss = F.cross_entropy(logits, Ytr)\n",
        "  loss"
      ]
    },
    {
      "cell_type": "code",
      "execution_count": 45,
      "metadata": {
        "colab": {
          "base_uri": "https://localhost:8080/"
        },
        "id": "2yG-SJKPcfFu",
        "outputId": "8481497e-2130-4fd7-8287-f79b967658d4"
      },
      "outputs": [
        {
          "data": {
            "text/plain": [
              "tensor(2.1586, grad_fn=<NllLossBackward0>)"
            ]
          },
          "execution_count": 45,
          "metadata": {},
          "output_type": "execute_result"
        }
      ],
      "source": [
        "  emb = C[Xdev]  #(32,3,2)\n",
        "  h = torch.tanh(emb.view(-1,30) @ W1 + b1) # (32,100)\n",
        "  logits = h @ W2 + b2 #(32,27)\n",
        "  loss = F.cross_entropy(logits, Ydev)\n",
        "  loss"
      ]
    },
    {
      "cell_type": "code",
      "execution_count": 56,
      "metadata": {
        "colab": {
          "base_uri": "https://localhost:8080/",
          "height": 430
        },
        "id": "Lk9cfE9wdAlp",
        "outputId": "84289ee3-161c-4e2e-a1a9-4fa4f2ed025e"
      },
      "outputs": [
        {
          "data": {
            "image/png": "[encoded data removed]",
            "text/plain": [
              "<Figure size 640x480 with 1 Axes>"
            ]
          },
          "metadata": {},
          "output_type": "display_data"
        }
      ],
      "source": [
        "plt.scatter(C[:,0].data, C[:,1].data, s = 200)\n",
        "for i in range (C.shape[0]):\n",
        "  plt.text(C[i,0].item(), C[i,1].item(), itos[i], ha = 'center', va= 'center', color= 'white')\n",
        "\n",
        "plt.grid('minor')"
      ]
    },
    {
      "cell_type": "code",
      "execution_count": 57,
      "metadata": {
        "id": "VatBrOPndAac"
      },
      "outputs": [],
      "source": [
        "#training split, dev/validaiton split, test split\n",
        "# 80%, 10%, 10%"
      ]
    },
    {
      "cell_type": "code",
      "execution_count": 58,
      "metadata": {
        "colab": {
          "base_uri": "https://localhost:8080/"
        },
        "id": "rCWQcklseTpB",
        "outputId": "4705df89-4f24-48b3-fda5-2e1997c08cfe"
      },
      "outputs": [
        {
          "data": {
            "text/plain": [
              "torch.Size([1, 3, 10])"
            ]
          },
          "execution_count": 58,
          "metadata": {},
          "output_type": "execute_result"
        }
      ],
      "source": [
        "context = [0] * block_size\n",
        "C[torch.tensor([context])].shape"
      ]
    },
    {
      "cell_type": "code",
      "execution_count": 59,
      "metadata": {
        "colab": {
          "base_uri": "https://localhost:8080/"
        },
        "id": "XJjSJL2SeeQw",
        "outputId": "ad70c49e-8efa-423f-add4-81907caad1c5"
      },
      "outputs": [
        {
          "name": "stdout",
          "output_type": "stream",
          "text": [
            "eria.\n",
            "kmyanniellendyn.\n",
            "alee.\n",
            "than.\n",
            "endraegelie.\n",
            "edielin.\n",
            "shi.\n",
            "jenleigh.\n",
            "esmanar.\n",
            "elle.\n",
            "malaia.\n",
            "noshur.\n",
            "roshimiel.\n",
            "kin.\n",
            "reney.\n",
            "panthona.\n",
            "ure.\n",
            "geder.\n",
            "yarue.\n",
            "els.\n"
          ]
        }
      ],
      "source": [
        "#sample from the model\n",
        "\n",
        "g = torch.Generator().manual_seed(2147483647 + 10)\n",
        "\n",
        "for _ in range(20):\n",
        "  out = []\n",
        "  context = [0] * block_size #initialize with all ..\n",
        "  while True :\n",
        "    emb = C[torch.tensor([context])]   #(1 , block_size, d)\n",
        "    h = torch.tanh(emb.view(1, -1) @ W1 + b1)\n",
        "    logits = h @ W2 + b2\n",
        "    probs = F.softmax(logits, dim = 1)\n",
        "    ix = torch.multinomial(probs, num_samples=1, generator = g).item()\n",
        "    context = context[1:] + [ix]\n",
        "    out.append(ix)\n",
        "    if ix == 0 :\n",
        "      break\n",
        "  print(''.join(itos[i] for i in out))"
      ]
    },
    {
      "cell_type": "code",
      "execution_count": null,
      "metadata": {
        "id": "4oPpgh1qgHnZ"
      },
      "outputs": [],
      "source": []
    }
  ],
  "metadata": {
    "colab": {
      "provenance": []
    },
    "kernelspec": {
      "display_name": "Python 3",
      "name": "python3"
    },
    "language_info": {
      "name": "python"
    }
  },
  "nbformat": 4,
  "nbformat_minor": 0
}
